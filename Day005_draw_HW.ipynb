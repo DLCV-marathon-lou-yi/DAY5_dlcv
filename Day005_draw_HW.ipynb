{
 "cells": [
  {
   "cell_type": "markdown",
   "metadata": {},
   "source": [
    "用兩種方式達到對明亮度做直方圖均衡處理\\\n",
    "水平鏡像 + 縮放處理 (0.5 倍)\\\n",
    "畫出人物矩形邊框"
   ]
  },
  {
   "cell_type": "code",
   "execution_count": 2,
   "metadata": {},
   "outputs": [],
   "source": [
    "import cv2\n",
    "import numpy as np\n",
    "img = cv2.imread('lena.png')\n",
    "top_left_corner=(60,40)\n",
    "bottom_right_corner=(420,510)"
   ]
  },
  {
   "cell_type": "markdown",
   "metadata": {},
   "source": [
    "# 矩形"
   ]
  },
  {
   "cell_type": "code",
   "execution_count": 7,
   "metadata": {},
   "outputs": [],
   "source": [
    "img_rect = img.copy()\n",
    "cv2.rectangle(\n",
    "    img_rect, #picture\n",
    "    top_left_corner, #rectangle place\n",
    "    bottom_right_corner,\n",
    "    (255,0,0), #line color\n",
    "    3         #line thinkness\n",
    ")\n",
    "while True:\n",
    "    cv2.imshow('image', img_rect)\n",
    "    k = cv2.waitKey(0)\n",
    "    if k == 27:\n",
    "        cv2.destroyAllWindows()\n",
    "        break"
   ]
  },
  {
   "cell_type": "markdown",
   "metadata": {},
   "source": [
    "# 線"
   ]
  },
  {
   "cell_type": "code",
   "execution_count": 10,
   "metadata": {},
   "outputs": [],
   "source": [
    "img_line=img.copy()\n",
    "cv2.line(\n",
    "    img_line,\n",
    "    top_left_corner,\n",
    "    bottom_right_corner,\n",
    "    (255,0,0),\n",
    "    3\n",
    ")\n",
    "while True:\n",
    "    cv2.imshow('image', img_line)\n",
    "    k = cv2.waitKey(0)\n",
    "    if k == 27:\n",
    "        cv2.destroyAllWindows()\n",
    "        break"
   ]
  },
  {
   "cell_type": "markdown",
   "metadata": {},
   "source": [
    "# 文字"
   ]
  },
  {
   "cell_type": "code",
   "execution_count": 19,
   "metadata": {},
   "outputs": [],
   "source": [
    "img_text=img.copy()\n",
    "cv2.putText(\n",
    "    img_text,\n",
    "    \"today is Monday.\",\n",
    "    (60,40), #⽂字左下⾓位置\n",
    "    7, #字型\n",
    "    1.5, #字體⼤⼩\n",
    "    (255,255,255), #字體顏⾊\n",
    "    2    #字體粗細\n",
    ")\n",
    "while True:\n",
    "    cv2.imshow('image', img_text)\n",
    "    k = cv2.waitKey(0)\n",
    "    if k == 27:\n",
    "        cv2.destroyAllWindows()\n",
    "        break"
   ]
  },
  {
   "cell_type": "markdown",
   "metadata": {},
   "source": [
    "# 解法一"
   ]
  },
  {
   "cell_type": "code",
   "execution_count": 47,
   "metadata": {},
   "outputs": [],
   "source": [
    "img_hw = img.copy()\n",
    "point1 = (60, 40)\n",
    "point2 = (420, 510)\n",
    "\n",
    "\"\"\"\n",
    "對明亮度做直方圖均衡\n",
    "\"\"\"\n",
    "# 原始 BGR 圖片轉 HSV 圖片\n",
    "img_hw = cv2.cvtColor(img_hw, cv2.COLOR_BGR2HSV)\n",
    "\n",
    "# 對明亮度做直方圖均衡 -> 對 HSV 的 V 做直方圖均衡\n",
    "img_hw[..., -1] = cv2.equalizeHist(img_hw[..., -1])\n",
    "\n",
    "# 將圖片轉回 BGR\n",
    "img_hw = cv2.cvtColor(img_hw, cv2.COLOR_HSV2BGR)\n",
    "\n",
    "\"\"\"\n",
    "畫出人物矩形邊框\n",
    "\"\"\"\n",
    "cv2.rectangle(img_hw, point1, point2, (0, 0, 255), 3)\n",
    "\n",
    "\"\"\"\n",
    "水平鏡像 + 縮放處理 (0.5 倍)\n",
    "\"\"\"\n",
    "# 水平鏡像 (圖片)\n",
    "img_hw = img_hw[:, ::-1, :]\n",
    "\n",
    "# 縮放處理\n",
    "img_hw = cv2.resize(img_hw, None, fx=0.5, fy=0.5, interpolation=cv2.INTER_LINEAR)\n",
    "\n",
    "while True:\n",
    "    cv2.imshow('image', img_hw)\n",
    "    k = cv2.waitKey(0)\n",
    "    if k == 27:\n",
    "        cv2.destroyAllWindows()\n",
    "        break"
   ]
  },
  {
   "cell_type": "markdown",
   "metadata": {},
   "source": [
    "# 解法二"
   ]
  },
  {
   "cell_type": "code",
   "execution_count": 46,
   "metadata": {},
   "outputs": [
    {
     "name": "stdout",
     "output_type": "stream",
     "text": [
      "M_scale.shape=(2, 3), bbox.shape=(2, 2)\n",
      "[[226  20]\n",
      " [ 46 255]\n",
      " [  0   0]]\n",
      "origin point1=[-60, 40], origin point2=[-420, 510]\n",
      "resize point1=(226, 20), resize point2=(46, 255)\n"
     ]
    }
   ],
   "source": [
    "img_hw = img.copy()\n",
    "point1=[60,40]\n",
    "point2=[420,510]\n",
    "\n",
    "\"\"\"\n",
    "對明亮度做直方圖均衡\n",
    "\"\"\"\n",
    "# 原始 BGR 圖片轉 HSV 圖片\n",
    "img_hw = cv2.cvtColor(img_hw, cv2.COLOR_BGR2HSV)\n",
    "# 對明亮度做直方圖均衡 -> 對 HSV 的 V 做直方圖均衡\n",
    "img_hw[...,-1]=cv2.equalizeHist(img_hw[:,:,-1])\n",
    "# 將圖片轉回 BGR\n",
    "img_hw = cv2.cvtColor(img_hw, cv2.COLOR_HSV2BGR)\n",
    "\n",
    "\"\"\"\n",
    "水平鏡像\n",
    "\"\"\"\n",
    "h, w = img_hw.shape[:2]\n",
    "# 圖片鏡像\n",
    "img_hw = img_hw[:,::-1,:]\n",
    "# 透過四則運算計算鏡像後位置\n",
    "# 確保點的位置一樣是左上跟右下，所以交換鏡像後的 x 座標 (y 座標做水平鏡像後位置不變)\n",
    "point1[0]=-60\n",
    "point2[0]=-420\n",
    "\n",
    "\"\"\"\n",
    "縮放處理 (0.5 倍)\n",
    "\"\"\"\n",
    "fx=0.5\n",
    "fy=0.5\n",
    "resize_col=int(img_hw.shape[1]*fx)\n",
    "resize_row=int(img_hw.shape[0]*fy)\n",
    "M_scale=np.array([[0.5,0,0],[0,0.5,0]])\n",
    "img_hw = cv2.warpAffine(img_hw,M_scale,(resize_col,resize_row)) #需要图像、变换矩阵、变换后的大小\n",
    "# 把左上跟右下轉為矩陣型式\n",
    "bbox = np.array((point1, point2), dtype=np.float32)\n",
    "print('M_scale.shape={}, bbox.shape={}'.format(M_scale.shape, bbox.shape))\n",
    "# 做矩陣乘法可以使用 `np.dot`, 為了做矩陣乘法, M_scale 需要做轉置之後才能相乘\n",
    "homo_coor_result = np.dot(M_scale.T, bbox)\n",
    "homo_coor_result = homo_coor_result.astype('uint8') #等比例縮小外加的框框\n",
    "print(homo_coor_result)\n",
    "#homo_coor_result轉成cv2.rectangle要得tuple\n",
    "scale_point1 = tuple(homo_coor_result[0])\n",
    "scale_point2 = tuple(homo_coor_result[1])\n",
    "print('origin point1={}, origin point2={}'.format(point1, point2))\n",
    "print('resize point1={}, resize point2={}'.format(scale_point1, scale_point2))\n",
    "# 畫圖\n",
    "cv2.rectangle(img_hw, scale_point1, scale_point2, (0, 0, 255), 3)\n",
    "\n",
    "while True:\n",
    "    cv2.imshow('image', img_hw)\n",
    "    k = cv2.waitKey(0)\n",
    "    if k == 27:\n",
    "        cv2.destroyAllWindows()\n",
    "        break"
   ]
  },
  {
   "cell_type": "markdown",
   "metadata": {},
   "source": [
    "# 解法三\n",
    "用解法1下去改\\\n",
    "把矩型邊框用遮罩的方式呈現，使用同樣處理圖片的方式處理遮罩 最後再找遮罩的左上跟右下的點的位置\\\n",
    "這邊會用到許多沒提過的東西，所以當作 optional"
   ]
  },
  {
   "cell_type": "code",
   "execution_count": 31,
   "metadata": {
    "scrolled": true
   },
   "outputs": [
    {
     "data": {
      "text/plain": [
       "(512,)"
      ]
     },
     "execution_count": 31,
     "metadata": {},
     "output_type": "execute_result"
    }
   ],
   "source": []
  },
  {
   "cell_type": "markdown",
   "metadata": {},
   "source": [
    "參考解"
   ]
  },
  {
   "cell_type": "code",
   "execution_count": 5,
   "metadata": {},
   "outputs": [
    {
     "name": "stdout",
     "output_type": "stream",
     "text": [
      "origin point1=[60, 40], origin point2=[420, 510]\n",
      "resize point1=(46, 20), resize point2=(225, 254)\n"
     ]
    }
   ],
   "source": [
    "img_hw = img.copy()\n",
    "point1 = [60, 40]\n",
    "point2 = [420, 510]\n",
    "\n",
    "# 2D mask\n",
    "img_mask = np.zeros_like(img_hw)\n",
    "img_mask[40:510, 60:420, ...] = 255\n",
    "\n",
    "\"\"\"\n",
    "對明亮度做直方圖均衡\n",
    "\"\"\"\n",
    "# 原始 BGR 圖片轉 HSV 圖片\n",
    "img_hw = cv2.cvtColor(img_hw, cv2.COLOR_BGR2HSV)\n",
    "\n",
    "# 對明亮度做直方圖均衡 -> 對 HSV 的 V 做直方圖均衡\n",
    "img_hw[..., -1] = cv2.equalizeHist(img_hw[..., -1])\n",
    "\n",
    "# 將圖片轉回 BGR\n",
    "img_hw = cv2.cvtColor(img_hw, cv2.COLOR_HSV2BGR)\n",
    "\n",
    "\"\"\"\n",
    "水平鏡像\n",
    "\"\"\"\n",
    "h, w = img_hw.shape[:2]\n",
    "\n",
    "# 圖片鏡像\n",
    "img_hw = img_hw[:, ::-1, :]\n",
    "img_mask = img_mask[:, ::-1, :]\n",
    "\n",
    "\"\"\"\n",
    "縮放處理 (0.5 倍)\n",
    "\"\"\"\n",
    "fx = 0.5\n",
    "fy = 0.5\n",
    "img_hw = cv2.resize(img_hw, None, fx=fx, fy=fy, interpolation=cv2.INTER_LINEAR)\n",
    "img_mask = cv2.resize(img_mask, None, fx=fx, fy=fy, interpolation=cv2.INTER_LINEAR)\n",
    "\n",
    "# 取得遮照的左上跟右下的點\n",
    "all_h_coor, all_w_coor, all_c_coor = np.where(img_mask)\n",
    "scale_point1 = (min(all_w_coor), min(all_h_coor))\n",
    "scale_point2 = (max(all_w_coor), max(all_h_coor))\n",
    "print('origin point1={}, origin point2={}'.format(point1, point2))\n",
    "print('resize point1={}, resize point2={}'.format(scale_point1, scale_point2))\n",
    "\n",
    "# 畫圖\n",
    "cv2.rectangle(img_hw, scale_point1, scale_point2, (0, 0, 255), 3)\n",
    "\n",
    "while True:\n",
    "    cv2.imshow('image', img_hw)\n",
    "    k = cv2.waitKey(0)\n",
    "    if k == 27:\n",
    "        cv2.destroyAllWindows()\n",
    "        break"
   ]
  },
  {
   "cell_type": "code",
   "execution_count": null,
   "metadata": {},
   "outputs": [],
   "source": []
  }
 ],
 "metadata": {
  "kernelspec": {
   "display_name": "Python 3",
   "language": "python",
   "name": "python3"
  },
  "language_info": {
   "codemirror_mode": {
    "name": "ipython",
    "version": 3
   },
   "file_extension": ".py",
   "mimetype": "text/x-python",
   "name": "python",
   "nbconvert_exporter": "python",
   "pygments_lexer": "ipython3",
   "version": "3.7.4"
  }
 },
 "nbformat": 4,
 "nbformat_minor": 2
}
